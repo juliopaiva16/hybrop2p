{
 "cells": [
  {
   "cell_type": "code",
   "execution_count": 5,
   "metadata": {},
   "outputs": [],
   "source": [
    "import json\n",
    "\n",
    "# le o arquivo parsed_thesis.json\n",
    "with open('parsed_thesis.json', 'r') as f:\n",
    "    parsed_thesis = json.load(f)\n",
    "\n",
    "    # atribui um id para cada tese\n",
    "    for i, thesis in enumerate(parsed_thesis):\n",
    "        thesis['id'] = i\n",
    "    \n",
    "    # divide as teses em N grupos\n",
    "    N = 10\n",
    "    groups = [[] for _ in range(N)]\n",
    "    for thesis in parsed_thesis:\n",
    "        groups[thesis['id'] % N].append(thesis)\n",
    "\n",
    "    # escreve cada grupo em um arquivo\n",
    "    for i, group in enumerate(groups):\n",
    "        with open(f'group{i}_thesis.json', 'w') as f:\n",
    "            json.dump(group, f, indent=2, ensure_ascii=True)"
   ]
  }
 ],
 "metadata": {
  "kernelspec": {
   "display_name": "Python 3",
   "language": "python",
   "name": "python3"
  },
  "language_info": {
   "codemirror_mode": {
    "name": "ipython",
    "version": 3
   },
   "file_extension": ".py",
   "mimetype": "text/x-python",
   "name": "python",
   "nbconvert_exporter": "python",
   "pygments_lexer": "ipython3",
   "version": "3.10.11"
  }
 },
 "nbformat": 4,
 "nbformat_minor": 2
}
